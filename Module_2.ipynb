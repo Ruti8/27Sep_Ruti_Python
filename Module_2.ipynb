{
 "cells": [
  {
   "cell_type": "code",
   "execution_count": 5,
   "id": "c0a4b02e",
   "metadata": {},
   "outputs": [
    {
     "name": "stdout",
     "output_type": "stream",
     "text": [
      "enter number: 0\n",
      "0\n",
      "number is zero\n"
     ]
    }
   ],
   "source": [
    "#Python program to check if a number is positive, negative or zero.\n",
    "\n",
    "num=int(input(\"enter number: \"))\n",
    "print(num)\n",
    "\n",
    "if num>0:\n",
    "    print(\"number is positive\")\n",
    "elif num<0:\n",
    "    print(\"number is negative\")\n",
    "else:\n",
    "    print(\"number is zero\")"
   ]
  },
  {
   "cell_type": "code",
   "execution_count": 5,
   "id": "10a0499d",
   "metadata": {},
   "outputs": [
    {
     "name": "stdout",
     "output_type": "stream",
     "text": [
      "enter a valuue of a ? 5\n",
      "5 120\n"
     ]
    }
   ],
   "source": [
    "#Python program to get the Factorial number of given number\n",
    "\n",
    "n=int(input(\"enter a valuue of a ? \"))\n",
    "f=1\n",
    "if n<0:\n",
    "    print(\"error\")\n",
    "else:\n",
    "    for i in range (1,n+1):\n",
    "        f=f*i\n",
    "print(n,f)"
   ]
  },
  {
   "cell_type": "code",
   "execution_count": 17,
   "id": "b0816993",
   "metadata": {},
   "outputs": [
    {
     "name": "stdout",
     "output_type": "stream",
     "text": [
      "Enter number : 8\n",
      "Fibonacci Series: 0 1 1 2 3 5 8 13 \n"
     ]
    }
   ],
   "source": [
    "#Write a Python program to get the Fibonacci series of given range.\n",
    "num = int(input(\"Enter number : \"))\n",
    "n1, n2 = 0, 1\n",
    "print(\"Fibonacci Series:\", n1, n2, end=\" \")\n",
    "for i in range(2, num):\n",
    "    n3 = n1 + n2\n",
    "    n1 = n2\n",
    "    n2 = n3\n",
    "    print(n3, end=\" \")\n",
    "\n",
    "print()"
   ]
  },
  {
   "cell_type": "code",
   "execution_count": 21,
   "id": "18582685",
   "metadata": {},
   "outputs": [
    {
     "name": "stdout",
     "output_type": "stream",
     "text": [
      "number1: 21\n",
      "number2: 8\n",
      "after swaping\n",
      "number1 8\n",
      "number2 21\n",
      "21\n",
      "21\n"
     ]
    }
   ],
   "source": [
    "#python program that swap two number with temp variable and without temp variable. \n",
    "\n",
    "num1=21\n",
    "num2=8\n",
    "print(\"number1:\", num1)\n",
    "print(\"number2:\",num2)\n",
    "\n",
    "temp=num2\n",
    "num2=num1\n",
    "print(\"after swaping\")\n",
    "print(\"number1\",temp)\n",
    "print(\"number2\",num2)\n"
   ]
  },
  {
   "cell_type": "code",
   "execution_count": 28,
   "id": "d66e5b84",
   "metadata": {},
   "outputs": [
    {
     "name": "stdout",
     "output_type": "stream",
     "text": [
      "number1: 21\n",
      "number2: 8\n",
      "after swaping\n",
      "number1: 8\n",
      "number2: 21\n"
     ]
    }
   ],
   "source": [
    "#without temp variable.\n",
    "\n",
    "num1=21\n",
    "num2=8\n",
    "print(\"number1:\",num1)\n",
    "print(\"number2:\",num2)\n",
    "\n",
    "print(\"after swaping\")\n",
    "num1,num2=num2,num1\n",
    "print(\"number1:\",num1)\n",
    "print(\"number2:\",num2)"
   ]
  },
  {
   "cell_type": "code",
   "execution_count": 31,
   "id": "c2a21602",
   "metadata": {},
   "outputs": [
    {
     "name": "stdout",
     "output_type": "stream",
     "text": [
      "Enter number : 21\n",
      "21 is odd number \n"
     ]
    }
   ],
   "source": [
    "#Python program to find whether a given number is even or odd, print out an appropriate message to the user\n",
    "\n",
    "number=int(input(\"Enter number : \"))\n",
    "\n",
    "if number % 2 == 0:\n",
    "    print(\"{} is even number \".format(number))\n",
    "else:\n",
    "    print(\"{} is odd number \".format(number))"
   ]
  },
  {
   "cell_type": "code",
   "execution_count": 3,
   "id": "1a9be39e",
   "metadata": {},
   "outputs": [
    {
     "name": "stdout",
     "output_type": "stream",
     "text": [
      "Enter a Letter: O\n",
      "O\n",
      "O is vowel\n"
     ]
    }
   ],
   "source": [
    "#Python program to test whether a passed letter is a vowel or not\n",
    "\n",
    "letter=(input(\"Enter a Letter: \"))\n",
    "print(letter)\n",
    "\n",
    "vowel=[\"a\",\"e\",\"i\",\"o\",\"u\",\"A\",\"E\",\"I\",\"O\",\"U\"]\n",
    "\n",
    "if letter in vowel:\n",
    "    print(\"{} is vowel\".format(letter))\n",
    "else:\n",
    "    print(\"{} is not vowel\".format(letter))"
   ]
  },
  {
   "cell_type": "code",
   "execution_count": 6,
   "id": "53fe5b67",
   "metadata": {},
   "outputs": [
    {
     "name": "stdout",
     "output_type": "stream",
     "text": [
      "Enter integer 1: 8\n",
      "Enter integer 2: 21\n",
      "Enter integer 3: 21\n",
      "0\n"
     ]
    }
   ],
   "source": [
    "#Python program to sum of three given integers. However, if two values are equal sum will be zero\n",
    "\n",
    "a=int(input(\"Enter integer 1: \"))\n",
    "b=int(input(\"Enter integer 2: \"))\n",
    "c=int(input(\"Enter integer 3: \"))\n",
    "\n",
    "sum=0\n",
    "if a==b:\n",
    "    print(sum) \n",
    "elif b==c:\n",
    "    print(sum)\n",
    "elif c==a:\n",
    "    print(sum)\n",
    "else:\n",
    "    total=a+b+c\n",
    "    print(total)"
   ]
  },
  {
   "cell_type": "code",
   "execution_count": 4,
   "id": "6af22683",
   "metadata": {},
   "outputs": [
    {
     "name": "stdout",
     "output_type": "stream",
     "text": [
      "Enter integer 1: 13\n",
      "Enter integer 2: 8\n",
      "true\n"
     ]
    }
   ],
   "source": [
    "#Python program that will return true if the two given integer values are equal or their sum or difference is 5.\n",
    "\n",
    "a=int(input(\"Enter integer 1: \"))\n",
    "b=int(input(\"Enter integer 2: \"))\n",
    "\n",
    "if a==b:\n",
    "    print(\"true\")\n",
    "elif a+b==5:\n",
    "    print(\"true\")\n",
    "elif a-b==5:\n",
    "    print(\"true\")\n",
    "elif b-a==5:\n",
    "    print(\"true\")\n",
    "else:\n",
    "    print(\"false\")"
   ]
  },
  {
   "cell_type": "code",
   "execution_count": 18,
   "id": "6b4a6e13",
   "metadata": {},
   "outputs": [
    {
     "name": "stdout",
     "output_type": "stream",
     "text": [
      "Enter integer value: 5\n",
      "15.0\n"
     ]
    }
   ],
   "source": [
    "# python program to sum of the first n positive integers.\n",
    "\n",
    "n=int(input(\"Enter integer value: \"))\n",
    "sum=n*(n+1)/2\n",
    "print(sum)"
   ]
  },
  {
   "cell_type": "code",
   "execution_count": 1,
   "id": "7968fd88",
   "metadata": {},
   "outputs": [
    {
     "name": "stdout",
     "output_type": "stream",
     "text": [
      "Enter a sring: i am learning python programming\n",
      "i am learning python programming\n",
      "32\n"
     ]
    }
   ],
   "source": [
    "#Python program to calculate the length of a string\n",
    "\n",
    "newstr=(input(\"Enter a string: \"))\n",
    "print(newstr)\n",
    "print(len(newstr))"
   ]
  },
  {
   "cell_type": "code",
   "execution_count": 3,
   "id": "a5e21c86",
   "metadata": {},
   "outputs": [
    {
     "name": "stdout",
     "output_type": "stream",
     "text": [
      "Enter a string: information technology\n",
      "{'i': 2, 'n': 3, 'f': 1, 'o': 4, 'r': 1, 'm': 1, 'a': 1, 't': 2, ' ': 1, 'e': 1, 'c': 1, 'h': 1, 'l': 1, 'g': 1, 'y': 1}\n"
     ]
    }
   ],
   "source": [
    "#Python program to count the number of characters (character frequency) in a string\n",
    "\n",
    "newstr=(input(\"Enter a string: \"))\n",
    "f={}\n",
    "for i in newstr:\n",
    "    if i in f:\n",
    "        f[i]+=1\n",
    "    else:\n",
    "        f[i]=1\n",
    "print(f)"
   ]
  },
  {
   "cell_type": "code",
   "execution_count": 8,
   "id": "eef67b7e",
   "metadata": {},
   "outputs": [
    {
     "name": "stdout",
     "output_type": "stream",
     "text": [
      "Enter a string: my life my rules\n",
      "Enter a substring: my\n",
      "my life my rules\n",
      "2\n"
     ]
    }
   ],
   "source": [
    "#Python program to count occurrences of a substring in a string\n",
    "\n",
    "str=(input(\"Enter a string: \"))\n",
    "sub=(input(\"Enter a substring: \"))\n",
    "\n",
    "print(str)\n",
    "\n",
    "x = str.count(sub)\n",
    "print(x)"
   ]
  },
  {
   "cell_type": "code",
   "execution_count": 9,
   "id": "e01f7e02",
   "metadata": {},
   "outputs": [
    {
     "name": "stdout",
     "output_type": "stream",
     "text": [
      "Enter a sentence: i am it student and i am learning python\n",
      "{'i': 2, 'am': 2, 'it': 1, 'student': 1, 'and': 1, 'learning': 1, 'python': 1}\n"
     ]
    }
   ],
   "source": [
    "#Python program to count the occurrences of each word in a given sentence\n",
    "\n",
    "str = (input(\"Enter a sentence: \"))\n",
    "w={}\n",
    "words = str.split() \n",
    "\n",
    "for t in words:\n",
    "    if t in w:\n",
    "        w[t]+=1\n",
    "    else:\n",
    "        w[t]=1\n",
    "print(w)"
   ]
  },
  {
   "cell_type": "code",
   "execution_count": 6,
   "id": "f4ba6a9f",
   "metadata": {},
   "outputs": [
    {
     "name": "stdout",
     "output_type": "stream",
     "text": [
      "enter string 1: hello\n",
      "enter string 2: world\n",
      "Before Swap : hello   world\n",
      "After Swap : wo   he\n"
     ]
    }
   ],
   "source": [
    "\"\"\"Python program to get a single string from two given strings, separated by a space and swap the first two characters \n",
    "of each string\"\"\"\n",
    "\n",
    "a=input(\"enter string 1: \")\n",
    "b=input(\"enter string 2: \")\n",
    "print(\"Before Swap :\",a,\" \",b)\n",
    "a1 = b[0:2] + a[2:0]\n",
    "b1 = a[0:2] + b[2:0]\n",
    "print(\"After Swap :\",a1,\" \",b1)"
   ]
  },
  {
   "cell_type": "code",
   "execution_count": 9,
   "id": "0c77ce97",
   "metadata": {},
   "outputs": [
    {
     "name": "stdout",
     "output_type": "stream",
     "text": [
      "enter string : learning\n",
      "learningly\n"
     ]
    }
   ],
   "source": [
    "\"\"\"Write a Python program to add 'ing' at the end of a given string (length should be at least 3). If the given string already \n",
    "ends with 'ing' then add 'ly' instead if the string length of the given string is less than 3, leave it unchanged.\"\"\"\n",
    "\n",
    "string = input(\"enter string : \")\n",
    "if len(string) < 3:\n",
    "  print(string)\n",
    "elif string[-3:] == 'ing':\n",
    "  print(string + 'ly')\n",
    "else:\n",
    "  print(string + 'ing')"
   ]
  },
  {
   "cell_type": "code",
   "execution_count": 3,
   "id": "fe17263d",
   "metadata": {},
   "outputs": [
    {
     "name": "stdout",
     "output_type": "stream",
     "text": [
      "The lyrics is not that poor\n",
      "appearance of poor in string: 1\n",
      "appearance of not in string: 1\n",
      "position of not: 14\n",
      "position of poor: 23\n",
      "The lyrics is good\n"
     ]
    }
   ],
   "source": [
    "\"\"\" Write a Python program to find the first appearance of the substring'not' and 'poor' from a given string, if 'not' follows\n",
    "the 'poor', replace the whole 'not'...'poor' substring with 'good'. Return the resulting string.\"\"\"\n",
    "\n",
    "str=\"The lyrics is not that poor\"\n",
    "print(str)\n",
    "\n",
    "x=str.count(\"not\")\n",
    "y=str.count(\"poor\")\n",
    "print(\"appearance of poor in string:\", x)\n",
    "print(\"appearance of not in string:\", y)\n",
    "\n",
    "z=str.find(\"not\")\n",
    "w=str.find(\"poor\")\n",
    "\n",
    "print(\"position of not:\", z)\n",
    "print(\"position of poor:\", w)\n",
    "\n",
    "if z<w:\n",
    "    p=str.replace(\"not that poor\",\"good\")\n",
    "    print(p)"
   ]
  },
  {
   "cell_type": "code",
   "execution_count": 4,
   "id": "07f413fc",
   "metadata": {},
   "outputs": [
    {
     "name": "stdout",
     "output_type": "stream",
     "text": [
      "enter a name:hell\n",
      "lleh\n"
     ]
    }
   ],
   "source": [
    "#Write a Python function to reverses a string if its length is a multiple of 4.\n",
    "\n",
    "name=input(\"enter a name:\")\n",
    "\n",
    "if(len(name)%4==0):\n",
    "    print(name[::-1])\n",
    "else:\n",
    "    print(\"can't\")"
   ]
  },
  {
   "cell_type": "code",
   "execution_count": 13,
   "id": "407b97fd",
   "metadata": {},
   "outputs": [
    {
     "name": "stdout",
     "output_type": "stream",
     "text": [
      "Enter String : python\n",
      "pyon\n"
     ]
    }
   ],
   "source": [
    "\"\"\"Write a Python program to get a string made of the first 2 and the last2 chars from a given a string. If the string length \n",
    "is less than 2, return instead of the empty string.\"\"\"\n",
    "\n",
    "str =input(\"Enter String : \")\n",
    "\n",
    "if (len(str)) > 2:\n",
    "    print(str[0:2] + str[-2:])\n",
    "else:\n",
    "    print(str)\n"
   ]
  },
  {
   "cell_type": "code",
   "execution_count": 15,
   "id": "120a513e",
   "metadata": {},
   "outputs": [
    {
     "name": "stdout",
     "output_type": "stream",
     "text": [
      "Thr original string is Information Technology\n",
      "New string is Information and Communication Technology\n"
     ]
    }
   ],
   "source": [
    "#Write a Python function to insert a string in the middle of a string.\n",
    "\n",
    "newstr =\"Information Technology\"\n",
    "print(\"Thr original string is \" + newstr)\n",
    "\n",
    "midstr= \"and Communication\"\n",
    "\n",
    "tstr = newstr.split()\n",
    "mid = len(tstr)//2\n",
    "\n",
    "res = ' '.join(tstr[:mid] + [midstr] + tstr[mid:])\n",
    "\n",
    "print(\"New string is \" + res)"
   ]
  }
 ],
 "metadata": {
  "kernelspec": {
   "display_name": "Python 3 (ipykernel)",
   "language": "python",
   "name": "python3"
  },
  "language_info": {
   "codemirror_mode": {
    "name": "ipython",
    "version": 3
   },
   "file_extension": ".py",
   "mimetype": "text/x-python",
   "name": "python",
   "nbconvert_exporter": "python",
   "pygments_lexer": "ipython3",
   "version": "3.9.12"
  }
 },
 "nbformat": 4,
 "nbformat_minor": 5
}
