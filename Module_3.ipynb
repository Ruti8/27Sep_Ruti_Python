{
 "cells": [
  {
   "cell_type": "code",
   "execution_count": 4,
   "id": "86198a95",
   "metadata": {},
   "outputs": [
    {
     "name": "stdout",
     "output_type": "stream",
     "text": [
      "[2, 33, 222, 14]\n"
     ]
    }
   ],
   "source": [
    "#How will you remove last object from a list? Suppose list1 is [2, 33, 222, 14, and 25],\n",
    "vlist = [2, 33, 222, 14, 25]\n",
    "del vlist[-1]\n",
    "print(vlist)"
   ]
  },
  {
   "cell_type": "code",
   "execution_count": 10,
   "id": "e243758c",
   "metadata": {},
   "outputs": [
    {
     "name": "stdout",
     "output_type": "stream",
     "text": [
      "largest no. is 222\n",
      "smallest no. is 2\n"
     ]
    }
   ],
   "source": [
    "#Write a Python function to get the largest number, smallest num and sum of all from a list\n",
    "\n",
    "vlist = [2, 33, 222, 14, 25]\n",
    "x=max(vlist)\n",
    "print(f\"largest no. is {x}\")\n",
    "y=min(vlist)\n",
    "print(f\"smallest no. is {y}\")"
   ]
  },
  {
   "cell_type": "code",
   "execution_count": 3,
   "id": "3569c272",
   "metadata": {},
   "outputs": [
    {
     "name": "stdout",
     "output_type": "stream",
     "text": [
      "the given words : aba\n",
      "the given words : 121\n",
      "No. of words you want: abc\n"
     ]
    }
   ],
   "source": [
    "\"\"\"Write a Python program to count the number of strings where the string length is 2 or more and the first and last character \n",
    "are same from a given list of strings\"\"\"\n",
    "\n",
    "s = 0\n",
    "list1 = ['aba', '121', 'kgf', 'abc']\n",
    "for i in list1:\n",
    "    if len(i)>1 and i[0]==i[-1]:\n",
    "        print(\"the given words :\",i) \n",
    "        s=s+1\n",
    "print(\"No. of words you want:\",i)\n"
   ]
  },
  {
   "cell_type": "code",
   "execution_count": 13,
   "id": "6e1ce9c3",
   "metadata": {},
   "outputs": [
    {
     "name": "stdout",
     "output_type": "stream",
     "text": [
      "original list [12, 8, 21, 15, 21, 8, 6, 5]\n",
      "new list [12, 8, 21, 15, 6, 5]\n"
     ]
    }
   ],
   "source": [
    "#Write a Python program to remove duplicates from a list. \n",
    "\n",
    "mylist = [12, 8, 21, 15, 21, 8, 6, 5]\n",
    "print(f\"original list {mylist}\")\n",
    "mylist = list(dict.fromkeys(mylist))\n",
    "print(f\"new list {mylist}\")"
   ]
  },
  {
   "cell_type": "code",
   "execution_count": 25,
   "id": "9523f50a",
   "metadata": {},
   "outputs": [
    {
     "name": "stdout",
     "output_type": "stream",
     "text": [
      "list lenght= 0\n",
      "list is empty\n",
      "list lenght= 5\n",
      "list is not empty\n"
     ]
    }
   ],
   "source": [
    "#Write a Python program to check a list is empty or not\n",
    "\n",
    "vlist = []\n",
    "x=len(vlist)\n",
    "print(f\"list lenght= {x}\")\n",
    "if x==0:\n",
    "    print(\"list is empty\")\n",
    "else:\n",
    "    print(\"list is not empty\")\n",
    "    \n",
    "plist = [2, 33, 222, 14, 25]\n",
    "y=len(plist)\n",
    "print(f\"list lenght= {y}\")\n",
    "if y==0:\n",
    "    print(\"list is empty\")\n",
    "else:\n",
    "    print(\"list is not empty\")"
   ]
  },
  {
   "cell_type": "code",
   "execution_count": 4,
   "id": "577c5b6f",
   "metadata": {},
   "outputs": [
    {
     "name": "stdout",
     "output_type": "stream",
     "text": [
      "true\n",
      "true\n",
      "true\n"
     ]
    }
   ],
   "source": [
    "#Write a Python function that takes two lists and returns true if they have at least one common member.\n",
    "\n",
    "list1 = [12, 8, 21, 15, 6, 5, 7, 10]\n",
    "list2 = [17, 19, 21, 8, 10, 3, 2, 4]\n",
    "\n",
    "for x in list1:\n",
    "         for y in list2:\n",
    "             if x == y:\n",
    "                    print(\"true\")\n",
    "    "
   ]
  },
  {
   "cell_type": "code",
   "execution_count": 1,
   "id": "178c6035",
   "metadata": {},
   "outputs": [
    {
     "name": "stdout",
     "output_type": "stream",
     "text": [
      "[1, 4, 9, 16, 25, 36, 49, 64, 81, 100, 121, 144, 169, 196, 225, 256, 289, 324, 361, 400, 441, 484, 529, 576, 625, 676, 729, 784, 841, 900]\n",
      "[1, 4, 9, 16, 25]\n",
      "[676, 729, 784, 841, 900]\n"
     ]
    }
   ],
   "source": [
    "\"\"\"Write a Python program to generate and print a list of first and last 5 elements where the values are square of numbers \n",
    "between 1 and 30\"\"\"\n",
    "\n",
    "vlist=[]\n",
    "\n",
    "for i in range(1,31):\n",
    "    vlist.append(i**2)\n",
    "\n",
    "print(vlist)\n",
    "\n",
    "print(vlist[:5])\n",
    "print(vlist[-5:])"
   ]
  },
  {
   "cell_type": "code",
   "execution_count": 2,
   "id": "2ba5dd71",
   "metadata": {},
   "outputs": [
    {
     "name": "stdout",
     "output_type": "stream",
     "text": [
      "Unique elements are\n",
      "[1, 2, 4, 5, 6, 9, 10]\n"
     ]
    }
   ],
   "source": [
    "#Write a Python function that takes a list and returns a new list with unique elements of the first list.\n",
    "\n",
    "def unique_list(l):\n",
    "  num = []\n",
    "  for a in l:\n",
    "    if a not in num:\n",
    "      num.append(a)\n",
    "  return num\n",
    "print('Unique elements are')\n",
    "print(unique_list([1,2,4,5,4,5,6,9,10]))"
   ]
  },
  {
   "cell_type": "code",
   "execution_count": 7,
   "id": "d8b47fa0",
   "metadata": {},
   "outputs": [
    {
     "name": "stdout",
     "output_type": "stream",
     "text": [
      "data_analytics\n"
     ]
    }
   ],
   "source": [
    "#Write a Python program to convert a list of characters into a string.\n",
    "\n",
    "s = ['d','a','t','a','_','a','n','a','l','y','t','i','c','s']\n",
    "str1 = ''.join(s)\n",
    "print(str1)"
   ]
  },
  {
   "cell_type": "code",
   "execution_count": 10,
   "id": "db385c01",
   "metadata": {},
   "outputs": [
    {
     "name": "stdout",
     "output_type": "stream",
     "text": [
      "4\n"
     ]
    }
   ],
   "source": [
    "#Write a Python program to select an item randomly from a list\n",
    "\n",
    "import random\n",
    "\n",
    "vlist = [1, 2, 3, 4, 5, 6]\n",
    "print(random.choice(vlist))"
   ]
  },
  {
   "cell_type": "code",
   "execution_count": 11,
   "id": "54fef498",
   "metadata": {},
   "outputs": [
    {
     "name": "stdout",
     "output_type": "stream",
     "text": [
      "Enter the number of elements: 5\n",
      "Enter the elements: 21\n",
      "Enter the elements: 8\n",
      "Enter the elements: 10\n",
      "Enter the elements: 7\n",
      "Enter the elements: 2\n",
      "The sorted list:  [2, 7, 8, 10, 21]\n",
      "The second smallest value of this list:  7\n"
     ]
    }
   ],
   "source": [
    "#Write a Python program to find the second smallest number in a list\n",
    "\n",
    "vlist = [] \n",
    "n = int(input(\"Enter the number of elements: \"))\n",
    "for i in range(1, n+1): \n",
    "    elem = int(input(\"Enter the elements: \")) \n",
    "    vlist.append(elem) \n",
    "vlist.sort() \n",
    "print(\"The sorted list: \", vlist) \n",
    "print(\"The second smallest value of this list: \",vlist[1])"
   ]
  },
  {
   "cell_type": "code",
   "execution_count": 14,
   "id": "777f9c95",
   "metadata": {},
   "outputs": [
    {
     "name": "stdout",
     "output_type": "stream",
     "text": [
      "Original List :  [4, 10, 12, 18, 4, 25, 29, 18, 25, 30]\n",
      "List of unique numbers :  [4, 10, 12, 18, 25, 29, 30]\n"
     ]
    }
   ],
   "source": [
    "#Write a Python program to get unique values from a list \n",
    "\n",
    "vlist = [4,10,12,18,4,25,29,18,25,30]\n",
    "print(\"Original List : \",vlist)\n",
    "\n",
    "vset = set(vlist)\n",
    "new_vlist = list(vset)\n",
    "print(\"List of unique numbers : \",new_vlist)"
   ]
  },
  {
   "cell_type": "code",
   "execution_count": 16,
   "id": "8afa091c",
   "metadata": {},
   "outputs": [
    {
     "name": "stdout",
     "output_type": "stream",
     "text": [
      "('Python', 'C++', 'Java')\n",
      "('react.js', 'node.js', 'angular.js')\n",
      "('Android', 'Flutter', 'ios')\n"
     ]
    }
   ],
   "source": [
    "#Write a Python program to split a list into different variables\n",
    "\n",
    "vlist=[('Python','C++','Java'),('react.js','node.js','angular.js'),('Android','Flutter','ios')]\n",
    "var1,var2,var3=vlist\n",
    "print(var1)\n",
    "print(var2)\n",
    "print(var3)"
   ]
  },
  {
   "cell_type": "code",
   "execution_count": 18,
   "id": "7a1be60a",
   "metadata": {},
   "outputs": [
    {
     "name": "stdout",
     "output_type": "stream",
     "text": [
      "('data analytics', True, 'P', 8.21, 10)\n"
     ]
    }
   ],
   "source": [
    "#Write a Python program to create a tuple with different data types\n",
    "\n",
    "vtupel = (\"data analytics\", True,'P', 8.21, 10)\n",
    "print(vtupel)"
   ]
  },
  {
   "cell_type": "code",
   "execution_count": 19,
   "id": "26ba7d36",
   "metadata": {},
   "outputs": [
    {
     "name": "stdout",
     "output_type": "stream",
     "text": [
      "(7, 11, 4, 15.7, 25)\n"
     ]
    }
   ],
   "source": [
    "#Write a Python program to create a tuple with numbers\n",
    "\n",
    "vtupel=(7,11,4,15.7,25)\n",
    "print(vtupel)"
   ]
  },
  {
   "cell_type": "code",
   "execution_count": 20,
   "id": "6b72bb89",
   "metadata": {},
   "outputs": [
    {
     "name": "stdout",
     "output_type": "stream",
     "text": [
      "python\n"
     ]
    }
   ],
   "source": [
    "#Write a Python program to convert a tuple to a strin\n",
    "\n",
    "tup = ('p','y','t','h','o','n')\n",
    "str = ''.join(tup)\n",
    "print(str)"
   ]
  },
  {
   "cell_type": "code",
   "execution_count": 23,
   "id": "24b1563c",
   "metadata": {},
   "outputs": [
    {
     "name": "stdout",
     "output_type": "stream",
     "text": [
      "Tupel Items = ('a', 'n', 'a', 'l', 'y', 't', 'i', 'c', 's')\n",
      "Enter element:c\n",
      "given element exists within a tuple\n"
     ]
    }
   ],
   "source": [
    "#Write a Python program to check whether an element exists within a tuple\n",
    "\n",
    "vtuple = ('a','n','a','l','y','t','i','c','s')\n",
    "print (\"Tupel Items =\",vtuple)\n",
    "\n",
    "ele=input(\"Enter element:\")\n",
    "\n",
    "if ele in vtuple:\n",
    "    print(\"given element exists within a tuple\")\n",
    "else:\n",
    "    print(\"an element doesn't exists within a tuple\")"
   ]
  },
  {
   "cell_type": "code",
   "execution_count": 27,
   "id": "5866380c",
   "metadata": {
    "scrolled": false
   },
   "outputs": [
    {
     "data": {
      "text/plain": [
       "13"
      ]
     },
     "execution_count": 27,
     "metadata": {},
     "output_type": "execute_result"
    }
   ],
   "source": [
    "#Write a Python program to find the length of a tuple\n",
    "\n",
    "vtuple = ('d','a','t','a','a','n','a','l','y','t','i','c','s')\n",
    "len(vtuple)"
   ]
  },
  {
   "cell_type": "code",
   "execution_count": 3,
   "id": "e5e7d9c9",
   "metadata": {},
   "outputs": [
    {
     "name": "stdout",
     "output_type": "stream",
     "text": [
      "(1, 2, 3, 4, 5)\n"
     ]
    }
   ],
   "source": [
    "#Write a Python program to convert a list to a tuple. \n",
    "\n",
    "vlist = [1, 2, 3 , 4, 5]\n",
    "vtuple = tuple(vlist)\n",
    "print(vtuple)"
   ]
  },
  {
   "cell_type": "code",
   "execution_count": 1,
   "id": "7aa0cbb2",
   "metadata": {},
   "outputs": [
    {
     "name": "stdout",
     "output_type": "stream",
     "text": [
      "The original tuple is:  ('a', 'n', 'a', 'l', 'y', 't', 'i', 'c', 's')\n",
      "The reversed tuple is:  ('s', 'c', 'i', 't', 'y', 'l', 'a', 'n', 'a')\n"
     ]
    }
   ],
   "source": [
    "#Write a Python program to reverse a tuple.\n",
    "\n",
    "vtuple = ('a','n','a','l','y','t','i','c','s') \n",
    "print(\"The original tuple is: \", vtuple)  \n",
    "  \n",
    "tuple_values = tuple(reversed(vtuple))  \n",
    "print(\"The reversed tuple is: \", tuple_values) "
   ]
  },
  {
   "cell_type": "code",
   "execution_count": 4,
   "id": "883e6f40",
   "metadata": {},
   "outputs": [
    {
     "name": "stdout",
     "output_type": "stream",
     "text": [
      "[(5, 2, 10), (4, 7, 10), (8, 9, 10)]\n"
     ]
    }
   ],
   "source": [
    "#Write a Python program to replace last value of tuples in a list. \n",
    "\n",
    "vlist = [(5, 2, 3), (4, 7, 6), (8, 9, 6)]\n",
    "print([t[:-1] + (10,) for t in vlist])"
   ]
  },
  {
   "cell_type": "code",
   "execution_count": 5,
   "id": "96c8480a",
   "metadata": {},
   "outputs": [
    {
     "name": "stdout",
     "output_type": "stream",
     "text": [
      "(12, 4, 15, 6, 2, 13, 4, 4, 7)\n",
      "3\n"
     ]
    }
   ],
   "source": [
    "#Write a Python program to find the repeated items of a tuple\n",
    "\n",
    "vtuple = 12, 4, 15, 6, 2, 13, 4, 4, 7 \n",
    "print(vtuple)\n",
    "count = vtuple.count(4)\n",
    "print(count)"
   ]
  },
  {
   "cell_type": "code",
   "execution_count": 6,
   "id": "d5453edc",
   "metadata": {},
   "outputs": [
    {
     "name": "stdout",
     "output_type": "stream",
     "text": [
      "['x', 'y', ('a', 'b'), 'cat', '12']\n"
     ]
    }
   ],
   "source": [
    "#Write a Python program to remove an empty tuple(s) from a list of tuples\n",
    "\n",
    "vlist=[('x'),('y'),('a','b'),(),('cat'),(),('12')]\n",
    "vlist=[t for t in vlist if t]\n",
    "print(vlist)"
   ]
  },
  {
   "cell_type": "code",
   "execution_count": 8,
   "id": "77db3d2c",
   "metadata": {},
   "outputs": [
    {
     "name": "stdout",
     "output_type": "stream",
     "text": [
      "Original list is : [(1, 2), (3, 4), (8, 9)]\n",
      "Modified list is : [(1, 3, 8), (2, 4, 9)]\n"
     ]
    }
   ],
   "source": [
    "#Write a Python program to unzip a list of tuples into individual lists. \n",
    "\n",
    "vlist = [(1,2), (3,4), (8,9)]\n",
    "print(\"Original list is : \" + str(vlist))\n",
    "x=list(zip(*l))\n",
    "print(\"Modified list is : \" + str(x))"
   ]
  },
  {
   "cell_type": "code",
   "execution_count": 9,
   "id": "3bafd339",
   "metadata": {},
   "outputs": [
    {
     "name": "stdout",
     "output_type": "stream",
     "text": [
      "{'name': 'xyz', 'sub': 'php', 'city': 'surat', 'mark': 65, 'spi': 6.5}\n"
     ]
    }
   ],
   "source": [
    "#Write a Python program to convert a list of tuples into a dictionary. \n",
    "\n",
    "tuples = [('name', 'xyz'), ('sub', 'php'), ('city', 'surat'), ('mark', 65), ('spi', 6.5)]\n",
    "result = dict(tuples)\n",
    "print(result)"
   ]
  },
  {
   "cell_type": "code",
   "execution_count": 10,
   "id": "393098f1",
   "metadata": {},
   "outputs": [
    {
     "name": "stdout",
     "output_type": "stream",
     "text": [
      "Sorted dictionary is :\n",
      "[(1, 'a'), (2, 'b'), (3, 'c'), (4, 'd')]\n"
     ]
    }
   ],
   "source": [
    "#Write a Python script to sort (ascending and descending) a dictionary by value.\n",
    "\n",
    "my_dict = {'c': 3,'a': 1,'d': 4,'b': 2}\n",
    "sorted_dict = sorted([(value, key)\n",
    "for (key, value) in my_dict.items()])\n",
    "print(\"Sorted dictionary is :\")\n",
    "print(sorted_dict)"
   ]
  },
  {
   "cell_type": "code",
   "execution_count": 12,
   "id": "c1158d9d",
   "metadata": {},
   "outputs": [
    {
     "name": "stdout",
     "output_type": "stream",
     "text": [
      "{'Name': 'Jeet', 'Age': 23, 'City': 'surat', 'Gender': 'Male', 'Mark': 450}\n"
     ]
    }
   ],
   "source": [
    "#Write a Python script to concatenate following dictionaries to create a new one.\n",
    "\n",
    "dict1={\"Name\":\"Jeet\" , \"Age\":23}\n",
    "dict2={\"City\": \"surat\", \"Gender\": \"Male\"}\n",
    "dict3={\"Mark\":450}\n",
    "dict4 = {}\n",
    "for d in (dict1, dict2, dict3): dict4.update(d)\n",
    "print(dict4)"
   ]
  },
  {
   "cell_type": "code",
   "execution_count": 15,
   "id": "6ed64a2a",
   "metadata": {},
   "outputs": [
    {
     "name": "stdout",
     "output_type": "stream",
     "text": [
      "The given dictionary :  {'name': 'xyz', 'sub': 'php', 'city': 'surat', 'mark': 65, 'spi': 6.5}\n",
      "spi is Present.\n"
     ]
    }
   ],
   "source": [
    "#Write a Python script to check if a given key already exists in a dictionary\n",
    "\n",
    "vdict = {'name': 'xyz', 'sub': 'php', 'city': 'surat', 'mark': 65, 'spi': 6.5}\n",
    "print(\"The given dictionary : \",vdict)\n",
    "check_key = \"spi\"\n",
    "if check_key in vdict:\n",
    "   print(check_key,\"is Present.\")\n",
    "else:\n",
    "   print(check_key, \" is not Present.\")"
   ]
  },
  {
   "cell_type": "code",
   "execution_count": 16,
   "id": "dd78911d",
   "metadata": {},
   "outputs": [
    {
     "name": "stdout",
     "output_type": "stream",
     "text": [
      "{1: 1, 2: 4, 3: 9, 4: 16, 5: 25, 6: 36, 7: 49, 8: 64, 9: 81, 10: 100, 11: 121, 12: 144, 13: 169, 14: 196, 15: 225}\n"
     ]
    }
   ],
   "source": [
    "#Write a Python script to print a dictionary where the keys are numbers between 1 and 15. \n",
    "\n",
    "vdict=dict()\n",
    "for x in range(1,16):\n",
    "    vdict[x]=x**2\n",
    "print(vdict)"
   ]
  },
  {
   "cell_type": "code",
   "execution_count": 18,
   "id": "443f8293",
   "metadata": {},
   "outputs": [
    {
     "name": "stdout",
     "output_type": "stream",
     "text": [
      "True\n",
      "False\n"
     ]
    }
   ],
   "source": [
    "#Write a Python program to check multiple keys exists in a dictionary\n",
    "\n",
    "vdict = {'name': 'xyz', 'sub': 'php', 'city': 'surat', 'mark': 65, 'spi': 6.5}\n",
    "\n",
    "print(vdict.keys() >= {\"city\", \"sub\"})\n",
    "print(vdict.keys() >= {\"cpi\", \"ide\"})"
   ]
  },
  {
   "cell_type": "code",
   "execution_count": 20,
   "id": "bb6e18d5",
   "metadata": {},
   "outputs": [
    {
     "name": "stdout",
     "output_type": "stream",
     "text": [
      "{'City': 'surat', 'Gender': 'Male', 'Name': 'Jeet', 'Age': 23}\n"
     ]
    }
   ],
   "source": [
    "#Write a Python script to merge two Python dictionaries \n",
    "\n",
    "dict1={\"Name\":\"Jeet\" , \"Age\":23}\n",
    "dict2={\"City\": \"surat\", \"Gender\": \"Male\"}\n",
    "\n",
    "dict3 = dict2.copy()\n",
    "dict3.update(dict1)\n",
    "\n",
    "print(dict3)"
   ]
  },
  {
   "cell_type": "code",
   "execution_count": 21,
   "id": "161d7621",
   "metadata": {},
   "outputs": [
    {
     "name": "stdout",
     "output_type": "stream",
     "text": [
      "{'name': 'jeet', 'sub': 'php', 'city': 'surat', 'age': 21}\n"
     ]
    }
   ],
   "source": [
    "#Write a Python program to map two lists into a dictionary\n",
    "\n",
    "dict1 = ['name', 'sub', 'city', 'age']\n",
    "dict2= ['jeet', 'php', 'surat', 21]\n",
    "\n",
    "dict3 = dict(zip(dict1, dict2))\n",
    "print(dict3)"
   ]
  },
  {
   "cell_type": "code",
   "execution_count": 22,
   "id": "bbd09821",
   "metadata": {},
   "outputs": [
    {
     "name": "stdout",
     "output_type": "stream",
     "text": [
      "Counter({'a': 400, 'b': 400, 'd': 400, 'c': 300})\n"
     ]
    }
   ],
   "source": [
    "\"\"\"Write a Python program to combine two dictionary adding values for common keys.\n",
    "d1 = {'a': 100, 'b': 200, 'c':300} o d2 = {'a': 300, 'b': 200,’d’:400}\n",
    "Sample output: Counter ({'a': 400, 'b': 400,’d’: 400, 'c': 300}).\"\"\"\n",
    "\n",
    "from collections import Counter\n",
    "d1 = {'a': 100, 'b': 200, 'c':300}\n",
    "d2 = {'a': 300, 'b': 200, 'd':400}\n",
    "d = Counter(d1) + Counter(d2)\n",
    "print(d)"
   ]
  },
  {
   "cell_type": "code",
   "execution_count": 26,
   "id": "c92e5ce6",
   "metadata": {},
   "outputs": [
    {
     "name": "stdout",
     "output_type": "stream",
     "text": [
      "The original dictionary is :  {'A': [1, 3, 5, 4], 'B': [4, 6, 8, 10], 'C': [6, 12, 4, 8], 'D': [5, 7, 2]}\n",
      "The unique values list is :  [1, 2, 3, 4, 5, 6, 7, 8, 10, 12]\n"
     ]
    }
   ],
   "source": [
    "#Write a Python program to print all unique values in a dictionary.\n",
    "\n",
    "dict1 = {'A' : [1, 3, 5, 4],'B' : [4, 6, 8, 10],'C' : [6, 12, 4 ,8],'D' : [5, 7, 2]}\n",
    "print(\"The original dictionary is : \" ,dict1)\n",
    "\n",
    "dict2 = list(sorted({ele for val in dict1.values() for ele in val})) \n",
    "print(\"The unique values list is : \" , dict2) "
   ]
  },
  {
   "cell_type": "code",
   "execution_count": 27,
   "id": "1c1851bf",
   "metadata": {},
   "outputs": [
    {
     "name": "stdout",
     "output_type": "stream",
     "text": [
      "ac\n",
      "ad\n",
      "bc\n",
      "bd\n"
     ]
    }
   ],
   "source": [
    "\"\"\"Write a Python program to create and display all combinations of letters,\n",
    "selecting each letter from a different key in a dictionary.\n",
    "Sample data: {'1': ['a','b'], '2': ['c','d']}\n",
    "Expected Output:\n",
    "ac ad bc bd \"\"\"\n",
    "\n",
    "d = {\"1\":['a','b',], '2':['c','d']}\n",
    "l = list(d.values())\n",
    "for com  in l[1:]:\n",
    "    for i in l[0]:\n",
    "        for j in com:\n",
    "            print(i+j)"
   ]
  },
  {
   "cell_type": "code",
   "execution_count": 29,
   "id": "3a35ef7e",
   "metadata": {},
   "outputs": [
    {
     "name": "stdout",
     "output_type": "stream",
     "text": [
      "Original Dictionary:\n",
      "{'A': 67, 'B': 23, 'C': 45, 'D': 56, 'E': 12, 'F': 69} \n",
      "\n",
      "Dictionary with 3 highest values:\n",
      "Keys: Values\n",
      "F  : 69  \n",
      "A  : 67  \n",
      "D  : 56  \n"
     ]
    }
   ],
   "source": [
    "#Write a Python program to find the highest 3 values in a dictionary\n",
    "\n",
    "from collections import Counter\n",
    "\n",
    "my_dict = {'A': 67, 'B': 23, 'C': 45,\n",
    "           'D': 56, 'E': 12, 'F': 69}\n",
    "\n",
    "k = Counter(my_dict)\n",
    "\n",
    "high = k.most_common(3)\n",
    "\n",
    "print(\"Original Dictionary:\")\n",
    "print(my_dict, \"\\n\")\n",
    "\n",
    "\n",
    "print(\"Dictionary with 3 highest values:\")\n",
    "print(\"Keys: Values\")\n",
    "\n",
    "for i in high:\n",
    "    print(i[0],\" :\",i[1],\" \")"
   ]
  },
  {
   "cell_type": "code",
   "execution_count": 32,
   "id": "7b84490d",
   "metadata": {},
   "outputs": [
    {
     "name": "stdout",
     "output_type": "stream",
     "text": [
      "Counter({'item1': 1150, 'item2': 300})\n"
     ]
    }
   ],
   "source": [
    "\"\"\"Write a Python program to combine values in python list of dictionaries.\n",
    "Sample data: [{'item': 'item1', 'amount': 400}, {'item': 'item2', 'amount':\n",
    "300}, o {'item': 'item1', 'amount': 750}]\n",
    "Expected Output:\n",
    "Counter ({'item1': 1150, 'item2': 300}) \"\"\"\n",
    "\n",
    "from collections import Counter\n",
    "item_list = [{'item': 'item1', 'amount': 400}, {'item': 'item2', 'amount': 300}, {'item': 'item1', 'amount': 750}]\n",
    "result = Counter()\n",
    "for d in item_list:\n",
    "    result[d['item']] += d['amount']\n",
    "print(result) "
   ]
  },
  {
   "cell_type": "code",
   "execution_count": 33,
   "id": "dc840916",
   "metadata": {},
   "outputs": [
    {
     "name": "stdout",
     "output_type": "stream",
     "text": [
      "{'p': 1, 'y': 1, 't': 1, 'h': 1, 'o': 1, 'n': 1}\n"
     ]
    }
   ],
   "source": [
    "\"\"\"Write a Python program to create a dictionary from a string.\n",
    "Note: Track the count of the letters from the string.\n",
    "Sample string: 'w3resource'\n",
    "Expected output:\n",
    "{'3': 1,’s’: 1, 'r': 2, 'u': 1, 'w': 1, 'c': 1, 'e': 2, 'o': 1} \"\"\"\n",
    "\n",
    "from collections import defaultdict, Counter\n",
    "str1 = 'python' \n",
    "my_dict = {}\n",
    "for letter in str1:\n",
    "    my_dict[letter] = my_dict.get(letter, 0) + 1\n",
    "print(my_dict)"
   ]
  },
  {
   "cell_type": "code",
   "execution_count": 38,
   "id": "4059dfdd",
   "metadata": {},
   "outputs": [
    {
     "name": "stdout",
     "output_type": "stream",
     "text": [
      "Input a number to compute the factiorial : 5\n",
      "120\n"
     ]
    }
   ],
   "source": [
    "#Write a Python function to calculate the factorial of a number (anonnegative integer) \n",
    "\n",
    "def factorial(n):\n",
    "    if n == 0:\n",
    "        return 1\n",
    "    else:\n",
    "        return n * factorial(n-1)\n",
    "n=int(input(\"Input a number to compute the factiorial : \"))\n",
    "print(factorial(n))"
   ]
  },
  {
   "cell_type": "code",
   "execution_count": 41,
   "id": "a9810a8c",
   "metadata": {},
   "outputs": [
    {
     "name": "stdout",
     "output_type": "stream",
     "text": [
      " 7 is in the range\n"
     ]
    }
   ],
   "source": [
    "#Write a Python function to check whether a number is in a given range\n",
    "\n",
    "def test_range(n):\n",
    "    if n in range(3,9):\n",
    "        print( \" %s is in the range\"%str(n))\n",
    "    else :\n",
    "        print(\"The number is outside the given range.\")\n",
    "test_range(7)"
   ]
  },
  {
   "cell_type": "code",
   "execution_count": 44,
   "id": "db944d3c",
   "metadata": {},
   "outputs": [
    {
     "name": "stdout",
     "output_type": "stream",
     "text": [
      "Enter the number: 6\n",
      "The entered number is a perfect number\n"
     ]
    }
   ],
   "source": [
    "#Write a Python function to check whether a number is perfect or not\n",
    "\n",
    "num=int(input(\"Enter the number: \"))  \n",
    "sum_v=0  \n",
    "for i in range(1,num):  \n",
    "    if (num%i==0):  \n",
    "        sum_v=sum_v+i  \n",
    "if(sum_v==num):  \n",
    "    print(\"The entered number is a perfect number\")  \n",
    "else:  \n",
    "    print(\"The entered number is not a perfect number\")  "
   ]
  },
  {
   "cell_type": "code",
   "execution_count": 46,
   "id": "0f903e7d",
   "metadata": {},
   "outputs": [
    {
     "name": "stdout",
     "output_type": "stream",
     "text": [
      "Yes\n"
     ]
    }
   ],
   "source": [
    "#Write a Python function that checks whether a passed string is palindrome or not\n",
    "\n",
    "def isPalindrome(s):\n",
    "    return s == s[::-1]\n",
    "\n",
    "s = \"malayalam\"\n",
    "ans = isPalindrome(s)\n",
    "\n",
    "if ans:\n",
    "    print(\"Yes\")\n",
    "else:\n",
    "    print(\"No\")"
   ]
  },
  {
   "cell_type": "code",
   "execution_count": 48,
   "id": "7fda0f2b",
   "metadata": {},
   "outputs": [
    {
     "name": "stdout",
     "output_type": "stream",
     "text": [
      "Hello Students!\n"
     ]
    }
   ],
   "source": [
    "#Write a Python program to read a random line from a file. \n",
    "\n",
    "import random\n",
    "def random_line(fname):\n",
    "    lines = open(fname).read().splitlines()\n",
    "    return random.choice(lines)\n",
    "print(random_line('test.txt'))\n"
   ]
  },
  {
   "cell_type": "code",
   "execution_count": 49,
   "id": "236c0213",
   "metadata": {},
   "outputs": [
    {
     "name": "stdout",
     "output_type": "stream",
     "text": [
      "Input degrees: 25\n",
      "0.4365079365079365\n"
     ]
    }
   ],
   "source": [
    "#Write a Python program to convert degree to radian\n",
    "\n",
    "pi=22/7\n",
    "degree = float(input(\"Input degrees: \"))\n",
    "radian = degree*(pi/180)\n",
    "print(radian)"
   ]
  },
  {
   "cell_type": "code",
   "execution_count": 52,
   "id": "05f92085",
   "metadata": {},
   "outputs": [
    {
     "name": "stdout",
     "output_type": "stream",
     "text": [
      "Height of trapezoid:10\n",
      "Base one value: 21\n",
      "Base two value: 8\n",
      "Area is: 145.0\n"
     ]
    }
   ],
   "source": [
    "#Write a Python program to calculate the area of a trapezoid\n",
    "\n",
    "base1 = 5\n",
    "base2 = 6\n",
    "height = float(input(\"Height of trapezoid:\"))\n",
    "base1 = float(input('Base one value: '))\n",
    "base2 = float(input('Base two value: '))\n",
    "area = ((base1 + base2) / 2) * height\n",
    "print(\"Area is:\", area)"
   ]
  },
  {
   "cell_type": "code",
   "execution_count": 53,
   "id": "1c38ff12",
   "metadata": {},
   "outputs": [
    {
     "name": "stdout",
     "output_type": "stream",
     "text": [
      "Length of base: 8\n",
      "Measurement of height: 21\n",
      "Area is:  168.0\n"
     ]
    }
   ],
   "source": [
    "#Write a Python program to calculate the area of a parallelogram \n",
    "\n",
    "base = float(input('Length of base: '))\n",
    "height = float(input('Measurement of height: '))\n",
    "area = base * height\n",
    "print(\"Area is: \", area)"
   ]
  },
  {
   "cell_type": "code",
   "execution_count": 54,
   "id": "f0c10423",
   "metadata": {},
   "outputs": [
    {
     "name": "stdout",
     "output_type": "stream",
     "text": [
      "Height of cylinder: 8\n",
      "Radius of cylinder: 21\n",
      "Volume is:  11088.0\n",
      "Surface Area is:  3828.0\n"
     ]
    }
   ],
   "source": [
    "#Write a Python program to calculate surface volume and area of a cylinder\n",
    "\n",
    "pi=22/7\n",
    "height = float(input('Height of cylinder: '))\n",
    "radian = float(input('Radius of cylinder: '))\n",
    "volume = pi * radian * radian * height\n",
    "sur_area = ((2*pi*radian) * height) + ((pi*radian**2)*2)\n",
    "print(\"Volume is: \", volume)\n",
    "print(\"Surface Area is: \", sur_area)"
   ]
  },
  {
   "cell_type": "code",
   "execution_count": 56,
   "id": "42ab03e4",
   "metadata": {},
   "outputs": [
    {
     "name": "stdout",
     "output_type": "stream",
     "text": [
      "7\n",
      "11\n"
     ]
    }
   ],
   "source": [
    "#Write a Python program to returns sum of all divisors of a number \n",
    "\n",
    "def sum_div(number):\n",
    "    divisors = [1]\n",
    "    for i in range(2, number):\n",
    "        if (number % i)==0:\n",
    "            divisors.append(i)\n",
    "    return sum(divisors)\n",
    "print(sum_div(8))\n",
    "print(sum_div(21))"
   ]
  },
  {
   "cell_type": "code",
   "execution_count": 58,
   "id": "d44d77bd",
   "metadata": {},
   "outputs": [
    {
     "name": "stdout",
     "output_type": "stream",
     "text": [
      "Maximum:  7.25\n",
      "Minimum:  0.04\n"
     ]
    }
   ],
   "source": [
    "#Write a Python program to find the maximum and minimum numbers from the specified decimal numbers. \n",
    "\n",
    "from decimal import *\n",
    "data = list(map(Decimal, '2.45 2.69 2.45 3.45 2.00 0.04 7.25'.split()))\n",
    "print(\"Maximum: \", max(data))\n",
    "print(\"Minimum: \", min(data)) "
   ]
  }
 ],
 "metadata": {
  "kernelspec": {
   "display_name": "Python 3 (ipykernel)",
   "language": "python",
   "name": "python3"
  },
  "language_info": {
   "codemirror_mode": {
    "name": "ipython",
    "version": 3
   },
   "file_extension": ".py",
   "mimetype": "text/x-python",
   "name": "python",
   "nbconvert_exporter": "python",
   "pygments_lexer": "ipython3",
   "version": "3.9.12"
  }
 },
 "nbformat": 4,
 "nbformat_minor": 5
}
